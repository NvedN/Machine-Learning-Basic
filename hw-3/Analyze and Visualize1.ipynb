{
 "cells":[
  {
   "cell_type":"markdown",
   "source":[
    "# I. Numpy"
   ],
   "attachments":{
    
   },
   "metadata":{
    "datalore":{
     "node_id":"Jh0xBDoMTbfAneAkLHMOsM",
     "type":"MD",
     "hide_input_from_viewers":false,
     "hide_output_from_viewers":false,
     "report_properties":{
      "rowId":"lXYabiqwEOGVHf2y6p5CFu"
     }
    }
   }
  },
  {
   "cell_type":"markdown",
   "source":[
    "### Импортируйте NumPy"
   ],
   "attachments":{
    
   },
   "metadata":{
    "datalore":{
     "node_id":"3XwiNGLmEzMAK7Y4x7RHMg",
     "type":"MD",
     "hide_input_from_viewers":false,
     "hide_output_from_viewers":false,
     "report_properties":{
      "rowId":"tXUJaNyInHz5fhlkGfyXRk"
     }
    }
   }
  },
  {
   "cell_type":"code",
   "source":[
    "import numpy as np"
   ],
   "execution_count":1,
   "outputs":[
    
   ],
   "metadata":{
    "datalore":{
     "node_id":"4DRtqi7N0neIk0Ho1KdmFu",
     "type":"CODE",
     "hide_input_from_viewers":false,
     "hide_output_from_viewers":false,
     "report_properties":{
      "rowId":"koH7FnmQ4BnCjyYBT9rJLX"
     }
    }
   }
  },
  {
   "cell_type":"markdown",
   "source":[
    "### Создайте одномерный массив размера 10, заполненный нулями и пятым элемент равным 1. Трансформируйте в двумерный массив."
   ],
   "attachments":{
    
   },
   "metadata":{
    "datalore":{
     "node_id":"JaExn9SKvIdGAbbCv5gRH7",
     "type":"MD",
     "hide_input_from_viewers":false,
     "hide_output_from_viewers":false,
     "report_properties":{
      "rowId":"1zp0fQVeqjcUcgG5f95Iqj"
     }
    }
   }
  },
  {
   "cell_type":"code",
   "source":[
    "arr1d = np.zeros(10)\n",
    "arr1d[4] = 1\n",
    "arr2d = arr1d.reshape(2, 5)"
   ],
   "execution_count":2,
   "outputs":[
    
   ],
   "metadata":{
    "datalore":{
     "node_id":"QhYMBgTly5MkOe5oe6ItVd",
     "type":"CODE",
     "hide_input_from_viewers":false,
     "hide_output_from_viewers":false,
     "report_properties":{
      "rowId":"q7RRblbeoK3pNQoeUZ8dQD"
     }
    }
   }
  },
  {
   "cell_type":"markdown",
   "source":[
    "### Создайте одномерный массив со значениями от 10 до 49 и разверните его (первый элемент становится последним). Найдите в нем все четные элементы."
   ],
   "attachments":{
    
   },
   "metadata":{
    "datalore":{
     "node_id":"fZGhJ1se234IGXjw8LAnc2",
     "type":"MD",
     "hide_input_from_viewers":false,
     "hide_output_from_viewers":false,
     "report_properties":{
      "rowId":"ERboagThUNNeFAmJ8BsGJa"
     }
    }
   }
  },
  {
   "cell_type":"code",
   "source":[
    "arr2 = np.arange(10, 50)\n",
    "arr2_reverse = arr2[::-1]\n",
    "even_elements = arr2_reverse[arr2_reverse % 2 == 0]"
   ],
   "execution_count":3,
   "outputs":[
    
   ],
   "metadata":{
    "datalore":{
     "node_id":"kW4V1n7o1SJwPcSoDRG4Z6",
     "type":"CODE",
     "hide_input_from_viewers":false,
     "hide_output_from_viewers":false,
     "report_properties":{
      "rowId":"4BHSe0GEzfbqc1ZYk9Mg02"
     }
    }
   }
  },
  {
   "cell_type":"markdown",
   "source":[
    "### Создайте двумерный массив 3x3 со значениями от 0 до 8"
   ],
   "attachments":{
    
   },
   "metadata":{
    "datalore":{
     "node_id":"CVheevP60ZmfMvtR3Xd5NY",
     "type":"MD",
     "hide_input_from_viewers":false,
     "hide_output_from_viewers":false,
     "report_properties":{
      "rowId":"CGZ98KRrhs0rq9Sd9eFfQl"
     }
    }
   }
  },
  {
   "cell_type":"code",
   "source":[
    "arr3 = np.arange(9).reshape(3, 3)"
   ],
   "execution_count":4,
   "outputs":[
    
   ],
   "metadata":{
    "datalore":{
     "node_id":"tGP6Ns7ss6QKOCLISl4ncY",
     "type":"CODE",
     "hide_input_from_viewers":false,
     "hide_output_from_viewers":false,
     "report_properties":{
      "rowId":"EKqYTZOTfUlvgk5Jwpvw0Y"
     }
    }
   }
  },
  {
   "cell_type":"markdown",
   "source":[
    "### Создайте массив 4x3x2 со случайными значениями. Найти его минимум и максимум."
   ],
   "attachments":{
    
   },
   "metadata":{
    "datalore":{
     "node_id":"4OIsi86ZCFURQpNkAgPsrD",
     "type":"MD",
     "hide_input_from_viewers":false,
     "hide_output_from_viewers":false,
     "report_properties":{
      "rowId":"ScbZ61NIVFXoohKTqKAIdg"
     }
    }
   }
  },
  {
   "cell_type":"code",
   "source":[
    "arr4 = np.random.random((4, 3, 2))\n",
    "min_value = np.min(arr4)\n",
    "max_value = np.max(arr4)"
   ],
   "execution_count":5,
   "outputs":[
    
   ],
   "metadata":{
    "datalore":{
     "node_id":"OVTS8IW8vFYxck3G2u5c6s",
     "type":"CODE",
     "hide_input_from_viewers":false,
     "hide_output_from_viewers":false,
     "report_properties":{
      "rowId":"nsAGrRBqLyCzqWubSIpFTC"
     }
    }
   }
  },
  {
   "cell_type":"markdown",
   "source":[
    "### Создайте два двумерных массива размерами 6x4 и 4x3 и произведите их матричное умножение. "
   ],
   "attachments":{
    
   },
   "metadata":{
    "datalore":{
     "node_id":"UP3yEzqnl4K6m0DX8u3fNF",
     "type":"MD",
     "hide_input_from_viewers":false,
     "hide_output_from_viewers":false,
     "report_properties":{
      "rowId":"eaGQU7fBrNyDc8B4t4toUV"
     }
    }
   }
  },
  {
   "cell_type":"code",
   "source":[
    "arr5a = np.random.random((6, 4))\n",
    "arr5b = np.random.random((4, 3))\n",
    "matrix_multiply = np.dot(arr5a, arr5b)"
   ],
   "execution_count":6,
   "outputs":[
    
   ],
   "metadata":{
    "datalore":{
     "node_id":"1UF6n0jAv0WkzlBAzs26UH",
     "type":"CODE",
     "hide_input_from_viewers":false,
     "hide_output_from_viewers":false,
     "report_properties":{
      "rowId":"dArj1ecx8UzgTP4sJ45p0D"
     }
    }
   }
  },
  {
   "cell_type":"markdown",
   "source":[
    "### Создайте случайный двумерный массив 7x7, найти у него среднее и стандартное оклонение. Нормализуйте этот массив."
   ],
   "attachments":{
    
   },
   "metadata":{
    "datalore":{
     "node_id":"TV0gD0oEuZxRLw9VALvSQC",
     "type":"MD",
     "hide_input_from_viewers":false,
     "hide_output_from_viewers":false,
     "report_properties":{
      "rowId":"41LEfTaJlK8pPF2kyVYzZZ"
     }
    }
   }
  },
  {
   "cell_type":"code",
   "source":[
    "arr6 = np.random.random((7, 7))\n",
    "mean_value = np.mean(arr6)\n",
    "std_deviation = np.std(arr6)\n",
    "normalized_arr = (arr6 - mean_value) \/ std_deviation"
   ],
   "execution_count":7,
   "outputs":[
    
   ],
   "metadata":{
    "datalore":{
     "node_id":"jW4fUAVfSaRN0bwPzyEM3E",
     "type":"CODE",
     "hide_input_from_viewers":false,
     "hide_output_from_viewers":false,
     "report_properties":{
      "rowId":"HmTPqPclqDQtfPDgGAOHKW"
     }
    }
   }
  },
  {
   "cell_type":"markdown",
   "source":[
    "# II. Pandas"
   ],
   "attachments":{
    
   },
   "metadata":{
    "datalore":{
     "node_id":"KS6ZGnJwCxbyH65vm5BLkR",
     "type":"MD",
     "hide_input_from_viewers":false,
     "hide_output_from_viewers":false,
     "report_properties":{
      "rowId":"M0fZAoPmnP2cEg5HY3Qztm"
     }
    }
   }
  },
  {
   "cell_type":"markdown",
   "source":[
    "### Импортируйте: pandas, matplotlib, seaborn"
   ],
   "attachments":{
    
   },
   "metadata":{
    "datalore":{
     "node_id":"7phCwmOQD4fzB8oBq8YQgH",
     "type":"MD",
     "hide_input_from_viewers":false,
     "hide_output_from_viewers":false,
     "report_properties":{
      "rowId":"Uvvplpkxp8Gv1FsCt9Ro5j"
     }
    }
   }
  },
  {
   "cell_type":"code",
   "source":[
    "import pandas as pd\n",
    "import seaborn as sns\n",
    "import matplotlib.pyplot as plt"
   ],
   "execution_count":8,
   "outputs":[
    
   ],
   "metadata":{
    "datalore":{
     "node_id":"BX9RUtJ06kZhcUbMG2GNbD",
     "type":"CODE",
     "hide_input_from_viewers":false,
     "hide_output_from_viewers":false,
     "report_properties":{
      "rowId":"RCIk3hKW4aOaxHM2zT95zP"
     }
    }
   }
  },
  {
   "cell_type":"markdown",
   "source":[
    "### Загрузите датасет Tips из набора датасетов seaborn"
   ],
   "attachments":{
    
   },
   "metadata":{
    "datalore":{
     "node_id":"LJ8QG8p4y95M80kfHv1ZIn",
     "type":"MD",
     "hide_input_from_viewers":false,
     "hide_output_from_viewers":false,
     "report_properties":{
      "rowId":"Lnt3HhpjMBymKt9u49NqqU"
     }
    }
   }
  },
  {
   "cell_type":"code",
   "source":[
    "tips_dataset = sns.load_dataset('tips')"
   ],
   "execution_count":9,
   "outputs":[
    
   ],
   "metadata":{
    "datalore":{
     "node_id":"rp3zMsDRPcOCWWuKIirrxa",
     "type":"CODE",
     "hide_input_from_viewers":false,
     "hide_output_from_viewers":false,
     "report_properties":{
      "rowId":"nvnXVM8flbdCP6N7C7iWhm"
     }
    }
   }
  },
  {
   "cell_type":"markdown",
   "source":[
    "### Посмотрите на первые 5 строчек"
   ],
   "attachments":{
    
   },
   "metadata":{
    "datalore":{
     "node_id":"7EnEiMKDSMSHgFxWJZyHOM",
     "type":"MD",
     "hide_input_from_viewers":false,
     "hide_output_from_viewers":false,
     "report_properties":{
      "rowId":"KRF1uLYWcfjQRWy0MtEi10"
     }
    }
   }
  },
  {
   "cell_type":"code",
   "source":[
    "print(tips_dataset.head())"
   ],
   "execution_count":10,
   "outputs":[
    {
     "name":"stdout",
     "text":[
      "   total_bill   tip     sex smoker  day    time  size\n",
      "0       16.99  1.01  Female     No  Sun  Dinner     2\n",
      "1       10.34  1.66    Male     No  Sun  Dinner     3\n",
      "2       21.01  3.50    Male     No  Sun  Dinner     3\n",
      "3       23.68  3.31    Male     No  Sun  Dinner     2\n",
      "4       24.59  3.61  Female     No  Sun  Dinner     4\n"
     ],
     "output_type":"stream"
    }
   ],
   "metadata":{
    "datalore":{
     "node_id":"6sUwNwK7LVvPrTSUoHEFQG",
     "type":"CODE",
     "hide_input_from_viewers":false,
     "hide_output_from_viewers":false,
     "report_properties":{
      "rowId":"jyh60yjur1uvCXbGmaMyOb"
     }
    }
   }
  },
  {
   "cell_type":"markdown",
   "source":[
    "### Узнайте сколько всего строчек и колонок в данных"
   ],
   "attachments":{
    
   },
   "metadata":{
    "datalore":{
     "node_id":"n2Vnn9nSr0O6X3f4WWIag6",
     "type":"MD",
     "hide_input_from_viewers":false,
     "hide_output_from_viewers":false,
     "report_properties":{
      "rowId":"ZIoEHd500UpDKNcY2phlFK"
     }
    }
   }
  },
  {
   "cell_type":"code",
   "source":[
    "rows, columns = tips_dataset.shape"
   ],
   "execution_count":11,
   "outputs":[
    
   ],
   "metadata":{
    "datalore":{
     "node_id":"j7uxghXdNFaZ9HTvvfb5tA",
     "type":"CODE",
     "hide_input_from_viewers":false,
     "hide_output_from_viewers":false,
     "report_properties":{
      "rowId":"D2A2S0qnSAYubmUqw79di5"
     }
    }
   }
  },
  {
   "cell_type":"markdown",
   "source":[
    "### Проверьте есть ли пропуски в данных"
   ],
   "attachments":{
    
   },
   "metadata":{
    "datalore":{
     "node_id":"J1UMZIJyFzE7rMKQFVHqtl",
     "type":"MD",
     "hide_input_from_viewers":false,
     "hide_output_from_viewers":false,
     "report_properties":{
      "rowId":"2Lkw2WzF1hpDTF14haEoR7"
     }
    }
   }
  },
  {
   "cell_type":"code",
   "source":[
    "missing_data = tips_dataset.isnull().any()"
   ],
   "execution_count":12,
   "outputs":[
    
   ],
   "metadata":{
    "datalore":{
     "node_id":"Ae8VuktKmZLedrt8csBP4g",
     "type":"CODE",
     "hide_input_from_viewers":false,
     "hide_output_from_viewers":false,
     "report_properties":{
      "rowId":"49GvzNhbNUpuJPCW6tZ2YQ"
     }
    }
   }
  },
  {
   "cell_type":"markdown",
   "source":[
    "### Посмотрите на распределение числовых признаков"
   ],
   "attachments":{
    
   },
   "metadata":{
    "datalore":{
     "node_id":"DJOomrNGfPYkAjlWA2NTJl",
     "type":"MD",
     "hide_input_from_viewers":false,
     "hide_output_from_viewers":false,
     "report_properties":{
      "rowId":"Fka0HaDNkBWCbcga2uGIer"
     }
    }
   }
  },
  {
   "cell_type":"code",
   "source":[
    "numeric_features_distribution = tips_dataset.describe()"
   ],
   "execution_count":13,
   "outputs":[
    
   ],
   "metadata":{
    "datalore":{
     "node_id":"qqN1nskqeloVbqH77F87Fe",
     "type":"CODE",
     "hide_input_from_viewers":false,
     "hide_output_from_viewers":false,
     "report_properties":{
      "rowId":"uMwbvm3POPucaxRSGxovxZ"
     }
    }
   }
  },
  {
   "cell_type":"markdown",
   "source":[
    "### Найдите максимальное значение 'total_bill'"
   ],
   "attachments":{
    
   },
   "metadata":{
    "datalore":{
     "node_id":"xEqLX7RCHeocNUiuVlwCrN",
     "type":"MD",
     "hide_input_from_viewers":false,
     "hide_output_from_viewers":false,
     "report_properties":{
      "rowId":"0Qr7qEeFmSY3ohT6QO6Wlz"
     }
    }
   }
  },
  {
   "cell_type":"code",
   "source":[
    "max_total_bill = tips_dataset['total_bill'].max()"
   ],
   "execution_count":14,
   "outputs":[
    
   ],
   "metadata":{
    "datalore":{
     "node_id":"IdULfbiH01rijvllq61nbR",
     "type":"CODE",
     "hide_input_from_viewers":false,
     "hide_output_from_viewers":false,
     "report_properties":{
      "rowId":"D7v4uUs3dvBxoPucF027Mc"
     }
    }
   }
  },
  {
   "cell_type":"markdown",
   "source":[
    "### Найдите количество курящих людей"
   ],
   "attachments":{
    
   },
   "metadata":{
    "datalore":{
     "node_id":"QoOp5wJDwK17N1uqVamkga",
     "type":"MD",
     "hide_input_from_viewers":false,
     "hide_output_from_viewers":false,
     "report_properties":{
      "rowId":"oGZ3nQeuQeFOazERKjUawk"
     }
    }
   }
  },
  {
   "cell_type":"code",
   "source":[
    "smokers_count = tips_dataset['smoker'].value_counts()['Yes']"
   ],
   "execution_count":15,
   "outputs":[
    
   ],
   "metadata":{
    "datalore":{
     "node_id":"rDwU3NF5467KUZzogLCTDF",
     "type":"CODE",
     "hide_input_from_viewers":false,
     "hide_output_from_viewers":false,
     "report_properties":{
      "rowId":"oHaVNdMprEVnsMxvHZapyw"
     }
    }
   }
  },
  {
   "cell_type":"markdown",
   "source":[
    "### Узнайте какой средний 'total_bill' в зависимости от 'day'"
   ],
   "attachments":{
    
   },
   "metadata":{
    "datalore":{
     "node_id":"Dlm78RocHsWTUA0PsqNEEB",
     "type":"MD",
     "hide_input_from_viewers":false,
     "hide_output_from_viewers":false,
     "report_properties":{
      "rowId":"Gmfa6byrExz2Yhmd85FdJ3"
     }
    }
   }
  },
  {
   "cell_type":"code",
   "source":[
    "mean_total_bill_by_day = tips_dataset.groupby('day')['total_bill'].mean()"
   ],
   "execution_count":16,
   "outputs":[
    
   ],
   "metadata":{
    "datalore":{
     "node_id":"4e4lYbMjEgxQCivl9kblfK",
     "type":"CODE",
     "hide_input_from_viewers":false,
     "hide_output_from_viewers":false,
     "report_properties":{
      "rowId":"v79dykCtYQM6V9XBl23kIN"
     }
    }
   }
  },
  {
   "cell_type":"markdown",
   "source":[
    "### Отберите строчки с 'total_bill' больше медианы и узнайте какой средний 'tip' в зависимости от 'sex'"
   ],
   "attachments":{
    
   },
   "metadata":{
    "datalore":{
     "node_id":"XTkMMzr2OX5yBqcWwod97u",
     "type":"MD",
     "hide_input_from_viewers":false,
     "hide_output_from_viewers":false,
     "report_properties":{
      "rowId":"kQGq7QToNhOGjitkvZdOvS"
     }
    }
   }
  },
  {
   "cell_type":"code",
   "source":[
    "median_total_bill = tips_dataset['total_bill'].median()\n",
    "above_median_rows = tips_dataset[tips_dataset['total_bill'] > median_total_bill]\n",
    "mean_tip_by_sex = above_median_rows.groupby('sex')['tip'].mean()"
   ],
   "execution_count":17,
   "outputs":[
    
   ],
   "metadata":{
    "datalore":{
     "node_id":"saCFQFY6JOnorxOV5LK94I",
     "type":"CODE",
     "hide_input_from_viewers":false,
     "hide_output_from_viewers":false,
     "report_properties":{
      "rowId":"oaG0Z5WtSM7bOXDgYIT1UC"
     }
    }
   }
  },
  {
   "cell_type":"markdown",
   "source":[
    "### Преобразуйте признак 'smoker' в бинарный (0-No, 1-Yes)"
   ],
   "attachments":{
    
   },
   "metadata":{
    "datalore":{
     "node_id":"263guLw1Ul4wERUdCHYlOo",
     "type":"MD",
     "hide_input_from_viewers":false,
     "hide_output_from_viewers":false,
     "report_properties":{
      "rowId":"EeJpJXoBkpZ1WFyhILnVw4"
     }
    }
   }
  },
  {
   "cell_type":"code",
   "source":[
    "tips_dataset['smoker'] = tips_dataset['smoker'].map({'No': 0, 'Yes': 1})"
   ],
   "execution_count":18,
   "outputs":[
    
   ],
   "metadata":{
    "datalore":{
     "node_id":"uVHrzg6TJy6CyAGOD70b84",
     "type":"CODE",
     "hide_input_from_viewers":false,
     "hide_output_from_viewers":false,
     "report_properties":{
      "rowId":"TPEvMb5YsVTYYIrPncruPt"
     }
    }
   }
  },
  {
   "cell_type":"markdown",
   "source":[
    "# III. Visualization"
   ],
   "attachments":{
    
   },
   "metadata":{
    "datalore":{
     "node_id":"xHDecwuxQufsgdQ9L4eg19",
     "type":"MD",
     "hide_input_from_viewers":false,
     "hide_output_from_viewers":false,
     "report_properties":{
      "rowId":"vZcwhe1UF67ApUe8NvQf94"
     }
    }
   }
  },
  {
   "cell_type":"markdown",
   "source":[
    "### Постройте гистограмму распределения признака 'total_bill'"
   ],
   "attachments":{
    
   },
   "metadata":{
    "datalore":{
     "node_id":"M4ybwOORSmLLHITFCX6mmK",
     "type":"MD",
     "hide_input_from_viewers":false,
     "hide_output_from_viewers":false,
     "report_properties":{
      "rowId":"4CYLBfUd4JjmjohoVgrCIz"
     }
    }
   }
  },
  {
   "cell_type":"code",
   "source":[
    "plt.hist(tips_dataset['total_bill'])\n",
    "plt.show()"
   ],
   "execution_count":19,
   "outputs":[
    {
     "data":{
      "image\/png":"[encoded data removed]"
     },
     "metadata":{
      "image\/png":{
       
      }
     },
     "output_type":"display_data"
    }
   ],
   "metadata":{
    "datalore":{
     "node_id":"vlskDeUCazSTaqzvwyLJGa",
     "type":"CODE",
     "hide_input_from_viewers":false,
     "hide_output_from_viewers":false,
     "report_properties":{
      "rowId":"VR00wbSmP2DBTIqCt8kzeF"
     }
    }
   }
  },
  {
   "cell_type":"markdown",
   "source":[
    "### Постройте scatterplot, представляющий взаимосвязь между признаками 'total_bill' и 'tip'"
   ],
   "attachments":{
    
   },
   "metadata":{
    "datalore":{
     "node_id":"c3mtyklDxwa8It4s1IRelz",
     "type":"MD",
     "hide_input_from_viewers":false,
     "hide_output_from_viewers":false,
     "report_properties":{
      "rowId":"nIp7xLwHCGaBE6FupZE63f"
     }
    }
   }
  },
  {
   "cell_type":"code",
   "source":[
    "plt.scatter(tips_dataset['total_bill'], tips_dataset['tip'])\n",
    "plt.xlabel('Total Bill')\n",
    "plt.ylabel('Tip')\n",
    "plt.show()"
   ],
   "execution_count":20,
   "outputs":[
    {
     "data":{
      "image\/png":"[encoded data removed]"
     },
     "metadata":{
      "image\/png":{
       
      }
     },
     "output_type":"display_data"
    }
   ],
   "metadata":{
    "datalore":{
     "node_id":"nnZSnkdIY3cj9A0d7UaTbg",
     "type":"CODE",
     "hide_input_from_viewers":false,
     "hide_output_from_viewers":false,
     "report_properties":{
      "rowId":"79E2poTym8BkK6AaQtHZni"
     }
    }
   }
  },
  {
   "cell_type":"markdown",
   "source":[
    "### Постройте pairplot"
   ],
   "attachments":{
    
   },
   "metadata":{
    "datalore":{
     "node_id":"JXh3dfbHFxI5RAgsw03Z9r",
     "type":"MD",
     "hide_input_from_viewers":false,
     "hide_output_from_viewers":false,
     "report_properties":{
      "rowId":"MGXkWIg0wmfab4SyFSJr7G"
     }
    }
   }
  },
  {
   "cell_type":"code",
   "source":[
    "sns.pairplot(tips_dataset)\n",
    "plt.show()"
   ],
   "execution_count":21,
   "outputs":[
    {
     "data":{
      "image\/png":"[encoded data removed]"
     },
     "metadata":{
      "image\/png":{
       
      }
     },
     "output_type":"display_data"
    }
   ],
   "metadata":{
    "datalore":{
     "node_id":"LR7KUnSF9jnV0HCUTt6nlv",
     "type":"CODE",
     "hide_input_from_viewers":false,
     "hide_output_from_viewers":false,
     "report_properties":{
      "rowId":"LmfAybFuwz6aqyxncAm5tH"
     }
    }
   }
  },
  {
   "cell_type":"markdown",
   "source":[
    "### Постройте график взаимосвязи между признаками 'total_bill' и 'day'"
   ],
   "attachments":{
    
   },
   "metadata":{
    "datalore":{
     "node_id":"kBzrWcbzeHrNezx2pXGqUt",
     "type":"MD",
     "hide_input_from_viewers":false,
     "hide_output_from_viewers":false,
     "report_properties":{
      "rowId":"RJ0mq2k7ARnpbPAG0cOCg8"
     }
    }
   }
  },
  {
   "cell_type":"code",
   "source":[
    "sns.catplot(x='total_bill', y='day', data=tips_dataset)\n",
    "plt.show()"
   ],
   "execution_count":22,
   "outputs":[
    {
     "data":{
      "image\/png":"[encoded data removed]"
     },
     "metadata":{
      "image\/png":{
       
      }
     },
     "output_type":"display_data"
    }
   ],
   "metadata":{
    "datalore":{
     "node_id":"q1oEJ2GSaM4NJ6X8qr505g",
     "type":"CODE",
     "hide_input_from_viewers":false,
     "hide_output_from_viewers":false,
     "report_properties":{
      "rowId":"VO17lIbOkiohuAzp67qRB5"
     }
    }
   }
  },
  {
   "cell_type":"markdown",
   "source":[
    "### Постройте две гистограммы распределения признака 'tip' в зависимости от категорий 'time'"
   ],
   "attachments":{
    
   },
   "metadata":{
    "datalore":{
     "node_id":"vEeWvwiIIdFjJvFbHmN0jU",
     "type":"MD",
     "hide_input_from_viewers":false,
     "hide_output_from_viewers":false,
     "report_properties":{
      "rowId":"vvAJeTp73WuFr2cKUuhfvm"
     }
    }
   }
  },
  {
   "cell_type":"code",
   "source":[
    "g = sns.FacetGrid(tips_dataset, col='time', height=4)\n",
    "g.map(plt.hist, 'tip')\n",
    "plt.show()"
   ],
   "execution_count":23,
   "outputs":[
    {
     "data":{
      "image\/png":"[encoded data removed]"
     },
     "metadata":{
      "image\/png":{
       
      }
     },
     "output_type":"display_data"
    }
   ],
   "metadata":{
    "datalore":{
     "node_id":"kjF6CnfVs05RfjsrQfbZ9z",
     "type":"CODE",
     "hide_input_from_viewers":false,
     "hide_output_from_viewers":false,
     "report_properties":{
      "rowId":"qqVQeWBVJaPpEnRQEuyFtb"
     }
    }
   }
  },
  {
   "cell_type":"markdown",
   "source":[
    "### Постройте два графика scatterplot, представляющих взаимосвязь между признаками 'total_bill' и 'tip' один для Male, другой для Female и раскрасьте точки в зависимоти от признака 'smoker'"
   ],
   "attachments":{
    
   },
   "metadata":{
    "datalore":{
     "node_id":"5n97aR27yi7liwcqFlc34z",
     "type":"MD",
     "hide_input_from_viewers":false,
     "hide_output_from_viewers":false,
     "report_properties":{
      "rowId":"iqK3PDqtP3kTk3keWQVfpQ"
     }
    }
   }
  },
  {
   "cell_type":"code",
   "source":[
    "g = sns.FacetGrid(tips_dataset, col='sex', hue='smoker', height=4)\n",
    "g.map(plt.scatter, 'total_bill', 'tip').add_legend()\n",
    "plt.show()"
   ],
   "execution_count":24,
   "outputs":[
    {
     "data":{
      "image\/png":"[encoded data removed]"
     },
     "metadata":{
      "image\/png":{
       
      }
     },
     "output_type":"display_data"
    }
   ],
   "metadata":{
    "datalore":{
     "node_id":"UYrNE77UiDE0p2xlhdyFxk",
     "type":"CODE",
     "hide_input_from_viewers":false,
     "hide_output_from_viewers":false,
     "report_properties":{
      "rowId":"oMInoND0Y28l1KNrTwveKY"
     }
    }
   }
  },
  {
   "cell_type":"markdown",
   "source":[
    "## Сделайте выводы по анализу датасета и построенным графикам. По желанию можете продолжить анализ данных и также отразить это в выводах."
   ],
   "attachments":{
    
   },
   "metadata":{
    "datalore":{
     "node_id":"Y8ofCViGZiIwYsdhVNXW7c",
     "type":"MD",
     "hide_input_from_viewers":false,
     "hide_output_from_viewers":false,
     "report_properties":{
      "rowId":"5OkxdwtUMoDyS2YURPwjKa"
     }
    }
   }
  },
  {
   "cell_type":"code",
   "source":[
    "Анализ датасета \"Tips\" позволяет понять основные закономерности и взаимосвязи между различными признаками.\n",
    "Например, можно заметить, что общая сумма счета влияет на величину чаевых, а также есть различия в платежах\n",
    "в зависимости от дня недели и времени приема пищи.\n",
    "Эти выводы могут быть полезны для более глубокого понимания поведения клиентов в ресторане."
   ],
   "execution_count":25,
   "outputs":[
    {
     "ename":"SyntaxError",
     "evalue":"SyntaxError: invalid syntax",
     "traceback":[
      "\u001b[0;31m---------------------------------------------------------------------------",
      "Traceback (most recent call last)",
      "SyntaxError: invalid syntax"
     ],
     "output_type":"error"
    }
   ],
   "metadata":{
    "datalore":{
     "node_id":"1T0ROBO3s5xUmJFITBJray",
     "type":"CODE",
     "hide_input_from_viewers":false,
     "hide_output_from_viewers":false,
     "report_properties":{
      "rowId":"3FvkCZ6ItCcWzb5tXYflvC"
     }
    }
   }
  }
 ],
 "metadata":{
  "kernelspec":{
   "display_name":"Python",
   "language":"python",
   "name":"python"
  },
  "datalore":{
   "computation_mode":"JUPYTER",
   "package_manager":"pip",
   "base_environment":"default",
   "packages":[
    
   ],
   "report_row_ids":[
    "lXYabiqwEOGVHf2y6p5CFu",
    "tXUJaNyInHz5fhlkGfyXRk",
    "koH7FnmQ4BnCjyYBT9rJLX",
    "1zp0fQVeqjcUcgG5f95Iqj",
    "q7RRblbeoK3pNQoeUZ8dQD",
    "ERboagThUNNeFAmJ8BsGJa",
    "4BHSe0GEzfbqc1ZYk9Mg02",
    "CGZ98KRrhs0rq9Sd9eFfQl",
    "EKqYTZOTfUlvgk5Jwpvw0Y",
    "ScbZ61NIVFXoohKTqKAIdg",
    "nsAGrRBqLyCzqWubSIpFTC",
    "eaGQU7fBrNyDc8B4t4toUV",
    "dArj1ecx8UzgTP4sJ45p0D",
    "41LEfTaJlK8pPF2kyVYzZZ",
    "HmTPqPclqDQtfPDgGAOHKW",
    "M0fZAoPmnP2cEg5HY3Qztm",
    "Uvvplpkxp8Gv1FsCt9Ro5j",
    "RCIk3hKW4aOaxHM2zT95zP",
    "Lnt3HhpjMBymKt9u49NqqU",
    "nvnXVM8flbdCP6N7C7iWhm",
    "KRF1uLYWcfjQRWy0MtEi10",
    "jyh60yjur1uvCXbGmaMyOb",
    "ZIoEHd500UpDKNcY2phlFK",
    "D2A2S0qnSAYubmUqw79di5",
    "2Lkw2WzF1hpDTF14haEoR7",
    "49GvzNhbNUpuJPCW6tZ2YQ",
    "Fka0HaDNkBWCbcga2uGIer",
    "uMwbvm3POPucaxRSGxovxZ",
    "0Qr7qEeFmSY3ohT6QO6Wlz",
    "D7v4uUs3dvBxoPucF027Mc",
    "oGZ3nQeuQeFOazERKjUawk",
    "oHaVNdMprEVnsMxvHZapyw",
    "Gmfa6byrExz2Yhmd85FdJ3",
    "v79dykCtYQM6V9XBl23kIN",
    "kQGq7QToNhOGjitkvZdOvS",
    "oaG0Z5WtSM7bOXDgYIT1UC",
    "EeJpJXoBkpZ1WFyhILnVw4",
    "TPEvMb5YsVTYYIrPncruPt",
    "vZcwhe1UF67ApUe8NvQf94",
    "4CYLBfUd4JjmjohoVgrCIz",
    "VR00wbSmP2DBTIqCt8kzeF",
    "nIp7xLwHCGaBE6FupZE63f",
    "79E2poTym8BkK6AaQtHZni",
    "MGXkWIg0wmfab4SyFSJr7G",
    "LmfAybFuwz6aqyxncAm5tH",
    "RJ0mq2k7ARnpbPAG0cOCg8",
    "VO17lIbOkiohuAzp67qRB5",
    "vvAJeTp73WuFr2cKUuhfvm",
    "qqVQeWBVJaPpEnRQEuyFtb",
    "iqK3PDqtP3kTk3keWQVfpQ",
    "oMInoND0Y28l1KNrTwveKY",
    "5OkxdwtUMoDyS2YURPwjKa",
    "3FvkCZ6ItCcWzb5tXYflvC"
   ],
   "version":3
  }
 },
 "nbformat":4,
 "nbformat_minor":4
}